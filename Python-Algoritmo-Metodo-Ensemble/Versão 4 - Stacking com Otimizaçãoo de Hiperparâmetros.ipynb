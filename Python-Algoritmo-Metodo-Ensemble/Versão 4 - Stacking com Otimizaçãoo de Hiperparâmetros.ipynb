{
 "cells": [
  {
   "cell_type": "code",
   "execution_count": 1,
   "metadata": {},
   "outputs": [],
   "source": [
    "# Projeto 3 - Modelagem de Tópicos do Noticiário Financeiro\n",
    "# Versão 4 - Stacking com Otimizaçãoo de Hiperparâmetros"
   ]
  },
  {
   "cell_type": "code",
   "execution_count": null,
   "metadata": {},
   "outputs": [],
   "source": [
    "# Imports\n",
    "import numpy as np\n",
    "from nltk.corpus import stopwords\n",
    "from sklearn.datasets import load_files\n",
    "from sklearn.feature_extraction.text import TfidfVectorizer\n",
    "from sklearn.model_selection import train_test_split\n",
    "from sklearn.linear_model import LogisticRegression\n",
    "from sklearn.naive_bayes import MultinomialNB\n",
    "from sklearn.ensemble import RandomForestClassifier, StackingClassifier\n",
    "from sklearn.metrics import accuracy_score"
   ]
  },
  {
   "cell_type": "code",
   "execution_count": null,
   "metadata": {},
   "outputs": [],
   "source": [
    "# Carregando os dados\n",
    "noticias = load_files('dados', encoding = 'utf-8', decode_error = 'replace')\n",
    "\n",
    "# Separando variáveis de entrada e saída\n",
    "X = noticias.data\n",
    "y = noticias.target"
   ]
  },
  {
   "cell_type": "code",
   "execution_count": null,
   "metadata": {},
   "outputs": [],
   "source": [
    "# Lista para os resultados\n",
    "d1 = []"
   ]
  },
  {
   "cell_type": "code",
   "execution_count": null,
   "metadata": {
    "scrolled": false
   },
   "outputs": [],
   "source": [
    "# Loop\n",
    "for x in range(1,10):\n",
    "\n",
    "\t# Divisão treino/teste\n",
    "    X_treino, X_teste, y_treino, y_teste = train_test_split(X, y, test_size = 0.30, random_state = x)\n",
    "\n",
    "    # Stop words\n",
    "    my_stop_words = set(stopwords.words('english'))\n",
    "\n",
    "    # Vetorização\n",
    "    vectorizer = TfidfVectorizer(norm = None, stop_words = my_stop_words, max_features = 1000, decode_error = \"ignore\")\n",
    "\n",
    "    # Aplica a vetorização\n",
    "    X_treino_vectors = vectorizer.fit_transform(X_treino)\n",
    "    X_teste_vectors = vectorizer.transform(X_teste)\n",
    "\n",
    "    # Modelos base\n",
    "    modelos_base = [('rf', RandomForestClassifier(n_estimators = 120, random_state = 52)), ('nb', MultinomialNB())]\n",
    "\n",
    "    # Modelo Stacking\n",
    "    stacking_model = StackingClassifier(estimators = modelos_base, final_estimator = LogisticRegression(multi_class = 'multinomial', random_state = 40, max_iter = 1000))\n",
    "    \n",
    "    # Acurácia\n",
    "    acuracia = stacking_model.fit(X_treino_vectors.todense(), y_treino).score(X_teste_vectors.todense(), y_teste)\n",
    "    \n",
    "    # Resultado\n",
    "    d1.append((x,acuracia))\n",
    "    \n",
    "    print('-Random State:', x, '-Acurácia :', acuracia)\n"
   ]
  },
  {
   "cell_type": "code",
   "execution_count": null,
   "metadata": {},
   "outputs": [],
   "source": [
    "print('\\nMelhores Resultados')\n",
    "mx = max(d1, key = lambda x:x[1])\n",
    "print('-Random State:', mx[0], '-Acurácia :', mx[1])\n",
    "print('\\n')"
   ]
  },
  {
   "cell_type": "code",
   "execution_count": null,
   "metadata": {},
   "outputs": [],
   "source": []
  }
 ],
 "metadata": {
  "kernelspec": {
   "display_name": "Python 3 (ipykernel)",
   "language": "python",
   "name": "python3"
  },
  "language_info": {
   "codemirror_mode": {
    "name": "ipython",
    "version": 3
   },
   "file_extension": ".py",
   "mimetype": "text/x-python",
   "name": "python",
   "nbconvert_exporter": "python",
   "pygments_lexer": "ipython3",
   "version": "3.11.5"
  }
 },
 "nbformat": 4,
 "nbformat_minor": 4
}
