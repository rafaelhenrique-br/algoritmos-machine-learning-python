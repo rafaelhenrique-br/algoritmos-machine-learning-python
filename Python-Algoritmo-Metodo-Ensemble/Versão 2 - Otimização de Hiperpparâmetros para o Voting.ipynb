{
 "cells": [
  {
   "cell_type": "code",
   "execution_count": 1,
   "metadata": {},
   "outputs": [],
   "source": [
    "# Projeto 3 - Modelagem de Tópicos do Noticiário Financeiro\n",
    "# Versão 2 - Otimização de Hiperpparâmetros para o Voting"
   ]
  },
  {
   "cell_type": "code",
   "execution_count": 1,
   "metadata": {},
   "outputs": [],
   "source": [
    "# Imports\n",
    "import numpy as np\n",
    "from nltk.corpus import stopwords\n",
    "from sklearn.datasets import load_files\n",
    "from sklearn.feature_extraction.text import TfidfVectorizer\n",
    "from sklearn.model_selection import train_test_split\n",
    "from sklearn.linear_model import LogisticRegression\n",
    "from sklearn.naive_bayes import MultinomialNB\n",
    "from sklearn.ensemble import RandomForestClassifier, VotingClassifier\n",
    "from sklearn.metrics import accuracy_score"
   ]
  },
  {
   "cell_type": "code",
   "execution_count": 2,
   "metadata": {},
   "outputs": [],
   "source": [
    "# Carregando os dados\n",
    "noticias = load_files('dados', encoding = 'utf-8', decode_error = 'replace')\n",
    "\n",
    "# Separando variáveis de entrada e saída\n",
    "X = noticias.data\n",
    "y = noticias.target"
   ]
  },
  {
   "cell_type": "code",
   "execution_count": 3,
   "metadata": {},
   "outputs": [],
   "source": [
    "# Para gravar o resultado\n",
    "d = {}\n",
    "d['soft'] = []\n",
    "d['hard'] = []"
   ]
  },
  {
   "cell_type": "code",
   "execution_count": 5,
   "metadata": {
    "scrolled": true
   },
   "outputs": [
    {
     "name": "stdout",
     "output_type": "stream",
     "text": [
      "-Random State: 1 -Voting: soft -Acurácia : 0.968562874251497\n",
      "-Random State: 1 -Voting: hard -Acurácia : 0.9670658682634731\n",
      "-Random State: 2 -Voting: soft -Acurácia : 0.9730538922155688\n",
      "-Random State: 2 -Voting: hard -Acurácia : 0.9775449101796407\n",
      "-Random State: 3 -Voting: soft -Acurácia : 0.9745508982035929\n",
      "-Random State: 3 -Voting: hard -Acurácia : 0.9790419161676647\n",
      "-Random State: 4 -Voting: soft -Acurácia : 0.9700598802395209\n",
      "-Random State: 4 -Voting: hard -Acurácia : 0.9745508982035929\n",
      "-Random State: 5 -Voting: soft -Acurácia : 0.9625748502994012\n",
      "-Random State: 5 -Voting: hard -Acurácia : 0.9670658682634731\n",
      "-Random State: 6 -Voting: soft -Acurácia : 0.9565868263473054\n",
      "-Random State: 6 -Voting: hard -Acurácia : 0.9655688622754491\n",
      "-Random State: 7 -Voting: soft -Acurácia : 0.9670658682634731\n",
      "-Random State: 7 -Voting: hard -Acurácia : 0.9655688622754491\n",
      "-Random State: 8 -Voting: soft -Acurácia : 0.9760479041916168\n",
      "-Random State: 8 -Voting: hard -Acurácia : 0.9835329341317365\n",
      "-Random State: 9 -Voting: soft -Acurácia : 0.9805389221556886\n",
      "-Random State: 9 -Voting: hard -Acurácia : 0.9790419161676647\n",
      "\n",
      "Melhores Resultados:\n"
     ]
    }
   ],
   "source": [
    "# Loop\n",
    "for x in range(1,50):\n",
    "\n",
    "\t# Divisão treino/teste\n",
    "    X_treino, X_teste, y_treino, y_teste = train_test_split(X, y, test_size=0.30, random_state = x)\n",
    "\n",
    "    # Stop words\n",
    "    my_stop_words = set(stopwords.words('english'))\n",
    "\n",
    "    # Vetorização\n",
    "    vectorizer = TfidfVectorizer(norm = None, stop_words = my_stop_words, max_features = 1000, decode_error = \"ignore\")\n",
    "\n",
    "    # Aplica a vetorização\n",
    "    X_treino_vectors = vectorizer.fit_transform(X_treino)\n",
    "    X_teste_vectors = vectorizer.transform(X_teste)\n",
    "\n",
    "    # Cria os modelos base\n",
    "    modelo1 = LogisticRegression(multi_class = 'multinomial', solver = 'lbfgs', random_state = 30, max_iter = 1000)\n",
    "    modelo2 = RandomForestClassifier(n_estimators = 1000, max_depth = 100, random_state = 1)\n",
    "    modelo3 = MultinomialNB()\n",
    "\n",
    "    # Loop\n",
    "    for i in ['soft','hard']:\n",
    "        voting_model = VotingClassifier(estimators = [ ('lg', modelo1), ('rf', modelo2), ('nb', modelo3)], voting = i)\n",
    "        voting_model = voting_model.fit(X_treino_vectors, y_treino)\n",
    "        previsoes = voting_model.predict(X_teste_vectors)\n",
    "        print('-Random State:', x, '-Voting:', i, '-Acurácia :', accuracy_score(y_teste, previsoes))\n",
    "        d[i].append((x,accuracy_score(y_teste, previsoes)))\n",
    "    \n",
    "\n",
    "print('\\nMelhores Resultados:')"
   ]
  },
  {
   "cell_type": "code",
   "execution_count": 6,
   "metadata": {},
   "outputs": [
    {
     "name": "stdout",
     "output_type": "stream",
     "text": [
      "-Random State: 8 -Voting:hard -Acurácia: 0.9835329341317365\n",
      "-Random State: 9 -Voting:soft -Acurácia: 0.9805389221556886\n",
      "\n",
      "\n"
     ]
    }
   ],
   "source": [
    "# Extrai os melhores resultados\n",
    "h = max(d['hard'], key = lambda x:x[1])\n",
    "s = max(d['soft'], key = lambda x:x[1])\n",
    "\n",
    "# Print\n",
    "print('-Random State:',h[0], '-Voting:hard', '-Acurácia:', h[1])\n",
    "print('-Random State:',s[0], '-Voting:soft', '-Acurácia:', s[1])\n",
    "\n",
    "print('\\n')"
   ]
  },
  {
   "cell_type": "code",
   "execution_count": null,
   "metadata": {},
   "outputs": [],
   "source": []
  }
 ],
 "metadata": {
  "kernelspec": {
   "display_name": "Python 3 (ipykernel)",
   "language": "python",
   "name": "python3"
  },
  "language_info": {
   "codemirror_mode": {
    "name": "ipython",
    "version": 3
   },
   "file_extension": ".py",
   "mimetype": "text/x-python",
   "name": "python",
   "nbconvert_exporter": "python",
   "pygments_lexer": "ipython3",
   "version": "3.11.5"
  }
 },
 "nbformat": 4,
 "nbformat_minor": 4
}
